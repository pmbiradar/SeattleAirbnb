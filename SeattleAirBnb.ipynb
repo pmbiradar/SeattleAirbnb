{
 "cells": [
  {
   "cell_type": "markdown",
   "metadata": {},
   "source": [
    "## Business Understanding\n",
    "  \n",
    "Finding accommodation for tourists has been made with Airbnb. Airbnb offers various property type like Apartment ,\n",
    "House, Boats for bookings. Seattle city attracts lots of travelers around the world throughout the year. \n",
    "Seattle Airbnb data  provides lots of insights on how the accommodation listings are booked . \n",
    "I have looked into the available data and tried to come up with insights , which might help future travelers to decide\n",
    "best time to visit , the city and the apartment type by answering following questions.\n",
    "\n",
    "1. How many listings are available for booking for each month of the year?\n",
    "2. What neighborhood listings are being booked most?\n",
    "3. How the apartment type and total number the listing can accommodate have impact on booking?"
   ]
  },
  {
   "cell_type": "markdown",
   "metadata": {},
   "source": [
    "## Data Understanding"
   ]
  },
  {
   "cell_type": "markdown",
   "metadata": {},
   "source": [
    "Importing Library"
   ]
  },
  {
   "cell_type": "code",
   "execution_count": 93,
   "metadata": {},
   "outputs": [],
   "source": [
    "import numpy as np\n",
    "import pandas as pd\n",
    "import matplotlib.pyplot as plt"
   ]
  },
  {
   "cell_type": "markdown",
   "metadata": {},
   "source": [
    "## Loading the Data"
   ]
  },
  {
   "cell_type": "code",
   "execution_count": 94,
   "metadata": {},
   "outputs": [],
   "source": [
    "df = pd.read_csv('./calendar.csv')\n"
   ]
  },
  {
   "cell_type": "markdown",
   "metadata": {},
   "source": [
    "## Data Preparation"
   ]
  },
  {
   "cell_type": "code",
   "execution_count": 95,
   "metadata": {},
   "outputs": [],
   "source": [
    "# stores data frame only if value of available is not f\n",
    "df = df[df.available == 't']\n",
    "\n",
    "#split the date column to colum day , month and year\n",
    "df[[\"year\", \"month\", \"day\"]] = df[\"date\"].str.split(\"-\", expand = True)"
   ]
  },
  {
   "cell_type": "code",
   "execution_count": 96,
   "metadata": {},
   "outputs": [],
   "source": [
    "#function to plot series\n",
    "\n",
    "def visualize( series, plottype,title,xlabel,ylabel ):\n",
    "     \"\"\"Function to take series and plot the series with title , labelled x and y axis\n",
    "                \n",
    "        Args:\n",
    "            series (series): series to plot\n",
    "            plottype(string): type of chart to plot (eg. bar)\n",
    "            title(string): plot title\n",
    "            xlabel(string): label to be used for x axis\n",
    "            ylabel(string): label to be used for y axis\n",
    "        \n",
    "        Returns:\n",
    "            None\n",
    "        \n",
    "    \"\"\"\n",
    "     series.plot(kind= plottype)\n",
    "     plt.title(title)\n",
    "     plt.xlabel(xlabel)\n",
    "     plt.ylabel(ylabel)"
   ]
  },
  {
   "cell_type": "markdown",
   "metadata": {},
   "source": [
    "## Data Analysis"
   ]
  },
  {
   "cell_type": "markdown",
   "metadata": {},
   "source": [
    "### Question 1\n",
    "\n",
    "**1.** How many listings are available for booking for each month of the year?\n"
   ]
  },
  {
   "cell_type": "code",
   "execution_count": 97,
   "metadata": {},
   "outputs": [
    {
     "data": {
      "image/png": "[encoded data removed]",
      "text/plain": [
       "<Figure size 432x288 with 1 Axes>"
      ]
     },
     "metadata": {
      "needs_background": "light"
     },
     "output_type": "display_data"
    }
   ],
   "source": [
    "#plot to see which month of the year most listings are made available for booking\n",
    "df[[\"year-month\"]]=df[\"year\"].map(str)+\"-\"+df[\"month\"].map(str)\n",
    "series= df.groupby('year-month')['available'].count()\n",
    "\n",
    "visualize( series, 'bar',\"Num of Listings available for Bookings per month\",\"Months\",\"Available Number of Listings\" )"
   ]
  },
  {
   "cell_type": "markdown",
   "metadata": {},
   "source": [
    "Looking at the visualization, it can be said that March and December are the month where most of the listings \n",
    "are made available. Looks like October and November are the months with next most available listings. \n",
    "As the last quarter of the year seems to have most listings available , travelers can plan in advance and \n",
    "hopefully this helps them for better planning and booking transport to and accommodations in Seattle"
   ]
  },
  {
   "cell_type": "markdown",
   "metadata": {},
   "source": [
    "### Question 2\n",
    "\n",
    "**2. ** What neighbourhood listings are being booked most? \n"
   ]
  },
  {
   "cell_type": "code",
   "execution_count": 98,
   "metadata": {},
   "outputs": [
    {
     "data": {
      "text/plain": [
       "(3818, 92)"
      ]
     },
     "execution_count": 98,
     "metadata": {},
     "output_type": "execute_result"
    }
   ],
   "source": [
    "listings_df = pd.read_csv('./listings.csv')\n",
    "#to find number of records in the datset\n",
    "listings_df.shape"
   ]
  },
  {
   "cell_type": "markdown",
   "metadata": {},
   "source": [
    "from above output , it can be seen that listing dataset has 3818 rows with 92 features"
   ]
  },
  {
   "cell_type": "code",
   "execution_count": 99,
   "metadata": {},
   "outputs": [
    {
     "name": "stdout",
     "output_type": "stream",
     "text": [
      "416\n"
     ]
    }
   ],
   "source": [
    "#to find number of records  where there exists no value for column \"neighbourhood\" in the datset\n",
    "print(listings_df['neighbourhood'].isnull().sum())"
   ]
  },
  {
   "cell_type": "code",
   "execution_count": 100,
   "metadata": {},
   "outputs": [
    {
     "name": "stdout",
     "output_type": "stream",
     "text": [
      "0\n"
     ]
    }
   ],
   "source": [
    "#As there are 2 more columns related to neighbourhood , lets check for count of null values in those columns\n",
    "#checking for blank values in column neighbourhood_cleansed\n",
    "print(listings_df['neighbourhood_cleansed'].isnull().sum())"
   ]
  },
  {
   "cell_type": "markdown",
   "metadata": {},
   "source": [
    "based on result obtained , it seems neighbourhood_cleansed column can be used \n",
    "compared to neighbourhood as there is no missing values in neighbourhood_cleansed"
   ]
  },
  {
   "cell_type": "code",
   "execution_count": 101,
   "metadata": {},
   "outputs": [
    {
     "name": "stdout",
     "output_type": "stream",
     "text": [
      "627\n"
     ]
    }
   ],
   "source": [
    "#to find number of records  where there exists no value for column \"reviews_per_month\" in the datset\n",
    "print(listings_df['reviews_per_month'].isnull().sum())"
   ]
  },
  {
   "cell_type": "markdown",
   "metadata": {},
   "source": [
    "based on result obtained , it seems  there are 627 values missing for column reviews_per_month. reviews_per_month values are \n",
    "numeric  and hence planning to impute the values with mean value obtained when records are grouped by neighbourhood_cleansed"
   ]
  },
  {
   "cell_type": "code",
   "execution_count": 102,
   "metadata": {},
   "outputs": [
    {
     "name": "stdout",
     "output_type": "stream",
     "text": [
      "neighbourhood_cleansed\n",
      "Adams               2.550702\n",
      "Alki                1.736552\n",
      "Arbor Heights       1.030000\n",
      "Atlantic            2.280698\n",
      "Belltown            1.986108\n",
      "                      ...   \n",
      "West Woodland       2.780370\n",
      "Westlake            1.712000\n",
      "Whittier Heights    2.879167\n",
      "Windermere          1.103750\n",
      "Yesler Terrace      2.060625\n",
      "Name: reviews_per_month, Length: 87, dtype: float64\n"
     ]
    }
   ],
   "source": [
    "# calculated and print the mean value for reviews_per_month per neighbourhood_cleansed\n",
    "print(listings_df.groupby('neighbourhood_cleansed')['reviews_per_month'].mean())\n"
   ]
  },
  {
   "cell_type": "code",
   "execution_count": 103,
   "metadata": {
    "scrolled": true
   },
   "outputs": [],
   "source": [
    "#as we decided to impute with mean values for null values in column reviews_per_month, \n",
    "#looping in each row and impting with mean per neighbourhood_cleansed\n",
    "for k in listings_df:\n",
    "    listings_df['reviews_per_month'] = listings_df['reviews_per_month'].fillna(listings_df.groupby('neighbourhood_cleansed')['reviews_per_month'].transform('mean'))\n",
    "    "
   ]
  },
  {
   "cell_type": "code",
   "execution_count": 104,
   "metadata": {},
   "outputs": [
    {
     "name": "stdout",
     "output_type": "stream",
     "text": [
      "0\n"
     ]
    }
   ],
   "source": [
    "#checking if there still exists any null values for reviews_per_month\n",
    "#as we have already imputed , there should be no null values\n",
    "print(listings_df['reviews_per_month'].isnull().sum())"
   ]
  },
  {
   "cell_type": "markdown",
   "metadata": {},
   "source": [
    "printed output value 0 shows that there exists no null value"
   ]
  },
  {
   "cell_type": "code",
   "execution_count": 105,
   "metadata": {},
   "outputs": [
    {
     "name": "stdout",
     "output_type": "stream",
     "text": [
      "neighbourhood_cleansed\n",
      "Adams               2.550702\n",
      "Alki                1.736552\n",
      "Arbor Heights       1.030000\n",
      "Atlantic            2.280698\n",
      "Belltown            1.986108\n",
      "                      ...   \n",
      "West Woodland       2.780370\n",
      "Westlake            1.712000\n",
      "Whittier Heights    2.879167\n",
      "Windermere          1.103750\n",
      "Yesler Terrace      2.060625\n",
      "Name: reviews_per_month, Length: 87, dtype: float64\n"
     ]
    }
   ],
   "source": [
    "#checking mean value again now when grouped by neighbourhood_cleansed\n",
    "#expect the values to be same as before as mean values itself was added to missing values\n",
    "print(listings_df.groupby('neighbourhood_cleansed')['reviews_per_month'].mean())"
   ]
  },
  {
   "cell_type": "markdown",
   "metadata": {},
   "source": [
    "comparing the mean values before and after imputing , its clear that mean values did not change and \n",
    "hence can be said that missing values are correctly imputed with mean values"
   ]
  },
  {
   "cell_type": "code",
   "execution_count": 106,
   "metadata": {},
   "outputs": [
    {
     "data": {
      "image/png": "[encoded data removed]",
      "text/plain": [
       "<Figure size 432x288 with 1 Axes>"
      ]
     },
     "metadata": {
      "needs_background": "light"
     },
     "output_type": "display_data"
    }
   ],
   "source": [
    "#plot to see neighbour hood with most review - indirectly means more bookings\n",
    "series= listings_df.groupby('neighbourhood_cleansed')['reviews_per_month'].sum().sort_values(ascending=False)[:10]\n",
    "\n",
    "visualize( series, 'bar','Impact of neighbourhood on Bookings','Top 10 neighbourhood cleansed','Number of Bookings')"
   ]
  },
  {
   "cell_type": "markdown",
   "metadata": {},
   "source": [
    "Looking at visualization plot , it can be said that Broadway neighborhood cleansed in the Seattle are heavily booked \n",
    "followed by Belltown. Other neighborhood cleansed listings are relatively lesser . \n",
    "Suggest travelers to top 10 neighborhood to plan very well in advance due to heavy bookings . \n",
    "Other neighborhood though offers quite good number of listings and hopefully slight easily available for bookings."
   ]
  },
  {
   "cell_type": "markdown",
   "metadata": {},
   "source": [
    "### Question 3\n",
    "\n",
    "**3. ** How the listing apartment type and total number the listing can accomodate have impact\n",
    "on booking? \n"
   ]
  },
  {
   "cell_type": "code",
   "execution_count": 107,
   "metadata": {},
   "outputs": [
    {
     "data": {
      "image/png": "[encoded data removed]",
      "text/plain": [
       "<Figure size 432x288 with 1 Axes>"
      ]
     },
     "metadata": {
      "needs_background": "light"
     },
     "output_type": "display_data"
    }
   ],
   "source": [
    "\n",
    "#plot to see what property types with number of accomodates are being more booked\n",
    "listings_df[[\"property_type-accommodates\"]]=listings_df[\"property_type\"].map(str)+\"-\"+listings_df[\"accommodates\"].map(str)\n",
    "series= listings_df.groupby('property_type-accommodates')['reviews_per_month'].sum().sort_values(ascending=False)[:10]\n",
    "\n",
    "visualize( series, 'bar','Impact of Property type & num of accomodates on Bookings','Top 10 Property type with Accomodates','Number of Bookings')"
   ]
  },
  {
   "cell_type": "markdown",
   "metadata": {},
   "source": [
    "Looking at above visualization plot , it can be said that House and Apartment which can accommodates only 2 person\n",
    "are in very much demand compared to other property type House and Apartments."
   ]
  },
  {
   "cell_type": "code",
   "execution_count": null,
   "metadata": {},
   "outputs": [],
   "source": []
  }
 ],
 "metadata": {
  "kernelspec": {
   "display_name": "Python 3",
   "language": "python",
   "name": "python3"
  },
  "language_info": {
   "codemirror_mode": {
    "name": "ipython",
    "version": 3
   },
   "file_extension": ".py",
   "mimetype": "text/x-python",
   "name": "python",
   "nbconvert_exporter": "python",
   "pygments_lexer": "ipython3",
   "version": "3.8.5"
  }
 },
 "nbformat": 4,
 "nbformat_minor": 4
}
